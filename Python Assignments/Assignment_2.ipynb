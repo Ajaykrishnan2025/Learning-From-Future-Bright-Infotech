{
 "cells": [
  {
   "cell_type": "code",
   "execution_count": null,
   "id": "7f06c45a",
   "metadata": {},
   "outputs": [],
   "source": [
    "# Assignment: Evaluate if a student has passed based on scores\n",
    "\n",
    "math = int(input(\"Enter marks in Math (out of 100): \"))\n",
    "science = int(input(\"Enter marks in Science (out of 100): \"))"
   ]
  },
  {
   "cell_type": "code",
   "execution_count": null,
   "id": "a6af9b7e",
   "metadata": {},
   "outputs": [],
   "source": [
    "# Student passes if both scores are at least 40\n",
    "passed = math >= 40 and science >= 40"
   ]
  },
  {
   "cell_type": "code",
   "execution_count": null,
   "id": "6544d2df",
   "metadata": {},
   "outputs": [],
   "source": [
    "# Student gets distinction if either score is above 90\n",
    "distinction = math > 90 or science > 90"
   ]
  },
  {
   "cell_type": "code",
   "execution_count": null,
   "id": "270cf6e7",
   "metadata": {},
   "outputs": [],
   "source": [
    "print(\"Passed the exam?\", passed)\n",
    "print(\"Got a distinction?\", distinction)"
   ]
  },
  {
   "cell_type": "code",
   "execution_count": null,
   "id": "4d46f7b1",
   "metadata": {},
   "outputs": [],
   "source": []
  },
  {
   "cell_type": "code",
   "execution_count": null,
   "id": "e926e967",
   "metadata": {},
   "outputs": [],
   "source": []
  }
 ],
 "metadata": {
  "kernelspec": {
   "display_name": "base",
   "language": "python",
   "name": "python3"
  },
  "language_info": {
   "codemirror_mode": {
    "name": "ipython",
    "version": 3
   },
   "file_extension": ".py",
   "mimetype": "text/x-python",
   "name": "python",
   "nbconvert_exporter": "python",
   "pygments_lexer": "ipython3",
   "version": "3.12.4"
  }
 },
 "nbformat": 4,
 "nbformat_minor": 5
}
