{
 "cells": [
  {
   "cell_type": "code",
   "execution_count": 1,
   "id": "95c85ccb",
   "metadata": {},
   "outputs": [
    {
     "name": "stdout",
     "output_type": "stream",
     "text": [
      "URL logged successfully.\n"
     ]
    }
   ],
   "source": [
    "\n",
    "try:\n",
    "    url = input(\"Enter the website URL visited (e.g., https://google.com): \")\n",
    "    with open(\"visitors.log\", \"a\") as log:\n",
    "        log.write(f\"Visited URL: {url}\\n\")\n",
    "    print(\"URL logged successfully.\")\n",
    "except Exception as e:\n",
    "    print(\"Error logging URL:\", e)\n"
   ]
  },
  {
   "cell_type": "code",
   "execution_count": null,
   "id": "9b30a30d",
   "metadata": {},
   "outputs": [],
   "source": [
    "# This code is my part of in python assignments outpu:\"URL logged Sucessfully\""
   ]
  }
 ],
 "metadata": {
  "kernelspec": {
   "display_name": "base",
   "language": "python",
   "name": "python3"
  },
  "language_info": {
   "codemirror_mode": {
    "name": "ipython",
    "version": 3
   },
   "file_extension": ".py",
   "mimetype": "text/x-python",
   "name": "python",
   "nbconvert_exporter": "python",
   "pygments_lexer": "ipython3",
   "version": "3.12.4"
  }
 },
 "nbformat": 4,
 "nbformat_minor": 5
}
