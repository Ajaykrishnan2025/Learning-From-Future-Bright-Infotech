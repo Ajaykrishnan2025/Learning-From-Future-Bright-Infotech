{
 "cells": [
  {
   "cell_type": "code",
   "execution_count": null,
   "id": "4ce28dd9",
   "metadata": {},
   "outputs": [],
   "source": [
    "# Question\n",
    "# Assignment: Web Development Progress Tracker\n",
    "# Create a global variable called course_name and assign it the value \"Web Development with HTML & CSS\".\n",
    "# Write a function get_total_marks(html, css) that returns the sum of two marks.\n",
    "# Write a second function print_student_progress() that:\n",
    "# Defines local variables: student_name, html_marks, css_marks\n",
    "# Calculates the total using get_total_marks()\n",
    "# Prints course name (global), student name, individual marks, and total.\n",
    "# Concepts: Global and Local Scope, Naming Conventions, Functions"
   ]
  },
  {
   "cell_type": "code",
   "execution_count": 2,
   "id": "05d88930",
   "metadata": {},
   "outputs": [
    {
     "name": "stdout",
     "output_type": "stream",
     "text": [
      "Course Name: Web Development with HTML & CSS\n",
      "Student: Ajaykrishnan\n",
      "HTML Marks: 40\n",
      "CSS Marks: 45\n",
      "Total Marks: 85\n"
     ]
    }
   ],
   "source": [
    "course_name = \"Web Development with HTML & CSS\"  # Global variable\n",
    "\n",
    "def get_total_marks(html, css):\n",
    "    return html + css\n",
    "\n",
    "def print_student_progress():\n",
    "    student_name = \"Ajaykrishnan\"\n",
    "    html_marks = 40\n",
    "    css_marks = 45\n",
    "\n",
    "    total = get_total_marks(html_marks, css_marks)\n",
    "\n",
    "    print(\"Course Name:\", course_name)\n",
    "    print(\"Student:\", student_name)\n",
    "    print(\"HTML Marks:\", html_marks)\n",
    "    print(\"CSS Marks:\", css_marks)\n",
    "    print(\"Total Marks:\", total)\n",
    "\n",
    "print_student_progress()\n"
   ]
  }
 ],
 "metadata": {
  "kernelspec": {
   "display_name": "base",
   "language": "python",
   "name": "python3"
  },
  "language_info": {
   "codemirror_mode": {
    "name": "ipython",
    "version": 3
   },
   "file_extension": ".py",
   "mimetype": "text/x-python",
   "name": "python",
   "nbconvert_exporter": "python",
   "pygments_lexer": "ipython3",
   "version": "3.12.4"
  }
 },
 "nbformat": 4,
 "nbformat_minor": 5
}
