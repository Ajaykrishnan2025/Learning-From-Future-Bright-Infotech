{
 "cells": [
  {
   "cell_type": "code",
   "execution_count": null,
   "id": "548417eb",
   "metadata": {},
   "outputs": [],
   "source": [
    "\n",
    "# Assignment: Custom Iterator - Even Numbers\n",
    "# Write a Python class that:\n",
    "\n",
    "# Implements a custom iterator using __iter__() and __next__().\n",
    "# Returns only even numbers starting from 2 up to a specified limit.\n",
    "# Raises StopIteration when the limit is exceeded.\n",
    "# Concepts: iterators, __iter__, __next__, StopIteration, class"
   ]
  },
  {
   "cell_type": "code",
   "execution_count": 4,
   "id": "d41122e7",
   "metadata": {},
   "outputs": [],
   "source": [
    "\n",
    "# Assignment: Create a custom iterator that returns only the even numbers up to a given limit.\n",
    "\n",
    "class EvenIterator:\n",
    "    def __init__(self, limit):\n",
    "        self.limit = limit\n",
    "        self.num = 0\n",
    "\n",
    "    def __iter__(self):\n",
    "        return self\n",
    "\n",
    "    def __next__(self):\n",
    "        self.num += 2\n",
    "        if self.num > self.limit:\n",
    "            raise StopIteration\n",
    "        return self.num\n"
   ]
  },
  {
   "cell_type": "code",
   "execution_count": 3,
   "id": "b5e218c9",
   "metadata": {},
   "outputs": [
    {
     "name": "stdout",
     "output_type": "stream",
     "text": [
      "2\n",
      "4\n",
      "6\n",
      "8\n",
      "10\n"
     ]
    }
   ],
   "source": [
    "even_numbers = EvenIterator(10)\n",
    "for num in even_numbers:\n",
    "    print(num)"
   ]
  },
  {
   "cell_type": "code",
   "execution_count": 2,
   "id": "b30d12f5",
   "metadata": {},
   "outputs": [
    {
     "name": "stdout",
     "output_type": "stream",
     "text": [
      "2\n",
      "4\n",
      "6\n",
      "8\n",
      "10\n"
     ]
    }
   ],
   "source": [
    "#full code\n",
    "# Ajay – Iterators and Iterables\n",
    "# Assignment: Create a custom iterator that returns only the even numbers up to a given limit.\n",
    "\n",
    "class EvenIterator:\n",
    "    def __init__(self, limit):\n",
    "        self.limit = limit\n",
    "        self.num = 0\n",
    "\n",
    "    def __iter__(self):\n",
    "        return self\n",
    "\n",
    "    def __next__(self):\n",
    "        self.num += 2\n",
    "        if self.num > self.limit:\n",
    "            raise StopIteration\n",
    "        return self.num\n",
    "\n",
    "# Example usage\n",
    "even_numbers = EvenIterator(10)\n",
    "for num in even_numbers:\n",
    "    print(num)"
   ]
  }
 ],
 "metadata": {
  "kernelspec": {
   "display_name": "base",
   "language": "python",
   "name": "python3"
  },
  "language_info": {
   "codemirror_mode": {
    "name": "ipython",
    "version": 3
   },
   "file_extension": ".py",
   "mimetype": "text/x-python",
   "name": "python",
   "nbconvert_exporter": "python",
   "pygments_lexer": "ipython3",
   "version": "3.12.4"
  }
 },
 "nbformat": 4,
 "nbformat_minor": 5
}
