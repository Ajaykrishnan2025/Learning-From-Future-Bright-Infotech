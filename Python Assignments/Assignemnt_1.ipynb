{
 "cells": [
  {
   "cell_type": "markdown",
   "id": "408048c2",
   "metadata": {},
   "source": [
    "# Program to calculate power from voltage and current"
   ]
  },
  {
   "cell_type": "code",
   "execution_count": null,
   "id": "bc38db90",
   "metadata": {},
   "outputs": [],
   "source": [
    "voltage = float(input(\"Enter the voltage (in volts): \"))\n",
    "current = float(input(\"Enter the current (in amperes): \"))"
   ]
  },
  {
   "cell_type": "code",
   "execution_count": null,
   "id": "b268e71d",
   "metadata": {},
   "outputs": [],
   "source": [
    "power = voltage * current"
   ]
  },
  {
   "cell_type": "code",
   "execution_count": null,
   "id": "70693a84",
   "metadata": {},
   "outputs": [],
   "source": [
    "print(\"Power = \", power, \"Watts\")"
   ]
  },
  {
   "cell_type": "code",
   "execution_count": null,
   "id": "674e0637",
   "metadata": {},
   "outputs": [],
   "source": [
    "print(\"Type of voltage:\", type(voltage))\n",
    "print(\"Type of current:\", type(current))\n",
    "print(\"Type of power:\", type(power))"
   ]
  },
  {
   "cell_type": "code",
   "execution_count": null,
   "id": "2a0301f2",
   "metadata": {},
   "outputs": [],
   "source": []
  },
  {
   "cell_type": "code",
   "execution_count": null,
   "id": "496bab8f",
   "metadata": {},
   "outputs": [],
   "source": []
  }
 ],
 "metadata": {
  "language_info": {
   "name": "python"
  }
 },
 "nbformat": 4,
 "nbformat_minor": 5
}
